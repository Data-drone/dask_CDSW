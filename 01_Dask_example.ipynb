{
 "cells": [
  {
   "cell_type": "code",
   "execution_count": 1,
   "metadata": {},
   "outputs": [
    {
     "name": "stdout",
     "output_type": "stream",
     "text": [
      "Waiting for Dask scheduler to become ready...\n",
      "Dask scheduler is ready\n",
      "IDs ['jk57fstxtdhcg7p3', '9ofz29mil868l9pu']\n"
     ]
    }
   ],
   "source": [
    "# Note that this code must be run from python3 or ipython3 in a session's \n",
    "# terminal, not run directly in the graphical console. See\n",
    "# https://github.com/dask/dask/issues/4612\n",
    "\n",
    "import cdsw_dask_utils\n",
    "\n",
    "# Run a Dask cluster with three workers and return an object containing\n",
    "# a description of the cluster. \n",
    "# \n",
    "# Note that the scheduler will run in the current session, and the Dask\n",
    "# dashboard will become available in the nine-dot menu at the upper\n",
    "# right corner of the CDSW app.\n",
    "\n",
    "cluster = cdsw_dask_utils.run_dask_cluster(\n",
    "  n=2, \\\n",
    "  cpu=1, \\\n",
    "  memory=1, \\\n",
    "  nvidia_gpu=0\n",
    ")\n",
    "\n",
    "# Connect a Dask client to the scheduler address in the cluster\n",
    "# description.\n",
    "from dask.distributed import Client\n",
    "client = Client(cluster[\"scheduler_address\"])"
   ]
  },
  {
   "cell_type": "code",
   "execution_count": 2,
   "metadata": {},
   "outputs": [
    {
     "name": "stdout",
     "output_type": "stream",
     "text": [
      "{\n",
      "    \"type\": \"Scheduler\",\n",
      "    \"id\": \"Scheduler-386c76d8-47ec-4fc0-9f6a-35cc63577a43\",\n",
      "    \"address\": \"tcp://100.66.0.29:2323\",\n",
      "    \"services\": {},\n",
      "    \"workers\": {\n",
      "        \"tcp://100.66.0.30:41669\": {\n",
      "            \"type\": \"Worker\",\n",
      "            \"id\": \"tcp://100.66.0.30:41669\",\n",
      "            \"host\": \"100.66.0.30\",\n",
      "            \"resources\": {},\n",
      "            \"local_directory\": \"/home/cdsw/worker-cs3jmj79\",\n",
      "            \"name\": \"tcp://100.66.0.30:41669\",\n",
      "            \"nthreads\": 16,\n",
      "            \"memory_limit\": 999997440,\n",
      "            \"last_seen\": 1571268797.7863235,\n",
      "            \"services\": {},\n",
      "            \"metrics\": {\n",
      "                \"cpu\": 2.0,\n",
      "                \"memory\": 87388160,\n",
      "                \"time\": 1571268797.785009,\n",
      "                \"read_bytes\": 286.07748222823415,\n",
      "                \"write_bytes\": 810.2194426743694,\n",
      "                \"num_fds\": 23,\n",
      "                \"executing\": 0,\n",
      "                \"in_memory\": 0,\n",
      "                \"ready\": 0,\n",
      "                \"in_flight\": 0,\n",
      "                \"bandwidth\": {\n",
      "                    \"total\": 100000000,\n",
      "                    \"workers\": {},\n",
      "                    \"types\": {}\n",
      "                }\n",
      "            },\n",
      "            \"nanny\": \"tcp://100.66.0.30:41991\"\n",
      "        },\n",
      "        \"tcp://100.66.0.31:42991\": {\n",
      "            \"type\": \"Worker\",\n",
      "            \"id\": \"tcp://100.66.0.31:42991\",\n",
      "            \"host\": \"100.66.0.31\",\n",
      "            \"resources\": {},\n",
      "            \"local_directory\": \"/home/cdsw/worker-129ukx_9\",\n",
      "            \"name\": \"tcp://100.66.0.31:42991\",\n",
      "            \"nthreads\": 16,\n",
      "            \"memory_limit\": 999997440,\n",
      "            \"last_seen\": 1571268798.1808865,\n",
      "            \"services\": {},\n",
      "            \"metrics\": {\n",
      "                \"cpu\": 2.0,\n",
      "                \"memory\": 87658496,\n",
      "                \"time\": 1571268797.6811557,\n",
      "                \"read_bytes\": 0.0,\n",
      "                \"write_bytes\": 0.0,\n",
      "                \"num_fds\": 23,\n",
      "                \"executing\": 0,\n",
      "                \"in_memory\": 0,\n",
      "                \"ready\": 0,\n",
      "                \"in_flight\": 0,\n",
      "                \"bandwidth\": {\n",
      "                    \"total\": 100000000,\n",
      "                    \"workers\": {},\n",
      "                    \"types\": {}\n",
      "                }\n",
      "            },\n",
      "            \"nanny\": \"tcp://100.66.0.31:37194\"\n",
      "        }\n",
      "    }\n",
      "}\n"
     ]
    }
   ],
   "source": [
    "import time \n",
    "time.sleep(10)\n",
    "import json\n",
    "print(json.dumps(client.scheduler_info(), indent=4))"
   ]
  },
  {
   "cell_type": "code",
   "execution_count": 3,
   "metadata": {},
   "outputs": [],
   "source": [
    "def square(x):\n",
    "  return x ** 2\n",
    "\n",
    "def neg(x):\n",
    "  return -x"
   ]
  },
  {
   "cell_type": "code",
   "execution_count": 12,
   "metadata": {},
   "outputs": [
    {
     "name": "stdout",
     "output_type": "stream",
     "text": [
      "[0, 1, 4, 9, 16, 25, 36, 49, 64, 81]\n"
     ]
    }
   ],
   "source": [
    "A = client.map(square, range(10))\n",
    "print(client.gather(A))"
   ]
  },
  {
   "cell_type": "code",
   "execution_count": 13,
   "metadata": {
    "scrolled": true
   },
   "outputs": [
    {
     "name": "stdout",
     "output_type": "stream",
     "text": [
      "[0, -1, -4, -9, -16, -25, -36, -49, -64, -81]\n"
     ]
    }
   ],
   "source": [
    "B = client.map(neg, A)\n",
    "print(client.gather(B))"
   ]
  },
  {
   "cell_type": "code",
   "execution_count": 14,
   "metadata": {},
   "outputs": [
    {
     "name": "stdout",
     "output_type": "stream",
     "text": [
      "Result:  -285\n"
     ]
    }
   ],
   "source": [
    "total = client.submit(sum, B)\n",
    "print(\"Result: \", total.result())"
   ]
  },
  {
   "cell_type": "code",
   "execution_count": 15,
   "metadata": {},
   "outputs": [
    {
     "data": {
      "text/html": [
       "<b>Future: sum</b> <font color=\"gray\">status: </font><font color=\"black\">finished</font>, <font color=\"gray\">type: </font>int, <font color=\"gray\">key: </font>sum-5aef8eaebdae50632ffb55ebe5b42d06"
      ],
      "text/plain": [
       "<Future: status: finished, type: int, key: sum-5aef8eaebdae50632ffb55ebe5b42d06>"
      ]
     },
     "execution_count": 15,
     "metadata": {},
     "output_type": "execute_result"
    }
   ],
   "source": [
    "total"
   ]
  },
  {
   "cell_type": "code",
   "execution_count": null,
   "metadata": {},
   "outputs": [],
   "source": []
  }
 ],
 "metadata": {
  "kernelspec": {
   "display_name": "Python 3",
   "language": "python",
   "name": "python3"
  },
  "language_info": {
   "codemirror_mode": {
    "name": "ipython",
    "version": 3
   },
   "file_extension": ".py",
   "mimetype": "text/x-python",
   "name": "python",
   "nbconvert_exporter": "python",
   "pygments_lexer": "ipython3",
   "version": "3.6.8"
  }
 },
 "nbformat": 4,
 "nbformat_minor": 2
}
